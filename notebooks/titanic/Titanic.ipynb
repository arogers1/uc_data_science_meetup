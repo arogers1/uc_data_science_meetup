{
 "cells": [
  {
   "cell_type": "markdown",
   "metadata": {},
   "source": [
    "# Titanic Kaggle Competition\n",
    "\n",
    "This dataset contains data on the passengers of the Titanic, including whether or not they survived. The goal is to be able to predict whether a passenger survived from the data we have on them.\n",
    "\n",
    "* Is this a supervised or unsupervised problem?\n",
    "* Is this a classification or regression problem?\n",
    "\n",
    "We're going to be focusing on the data exploration and preparation steps in this notebook. While this is a relatively simple dataset, it still has issues that need to be cleaned up and prepared to be used in a machine learning algorithm. We'll be doing the following:\n",
    "\n",
    "* Explore the dataset to identify potential problems and patterns\n",
    "* Deal with missing data points\n",
    "* Identify categorical variables and convert them\n",
    "* Manipulate certain features to get more information out of them"
   ]
  },
  {
   "cell_type": "code",
   "execution_count": 1,
   "metadata": {
    "collapsed": false
   },
   "outputs": [
    {
     "data": {
      "application/javascript": [
       "IPython.OutputArea.auto_scroll_threshold = 9999;"
      ],
      "text/plain": [
       "<IPython.core.display.Javascript object>"
      ]
     },
     "metadata": {},
     "output_type": "display_data"
    }
   ],
   "source": [
    "%%javascript\n",
    "IPython.OutputArea.auto_scroll_threshold = 9999;"
   ]
  },
  {
   "cell_type": "code",
   "execution_count": 4,
   "metadata": {
    "collapsed": false
   },
   "outputs": [
    {
     "name": "stdout",
     "output_type": "stream",
     "text": [
      "\n",
      "--------First n rows---------\n",
      "\n",
      "   PassengerId  Survived  Pclass  \\\n",
      "0            1         0       3   \n",
      "1            2         1       1   \n",
      "2            3         1       3   \n",
      "3            4         1       1   \n",
      "4            5         0       3   \n",
      "\n",
      "                                                Name     Sex  Age  SibSp  \\\n",
      "0                            Braund, Mr. Owen Harris    male   22      1   \n",
      "1  Cumings, Mrs. John Bradley (Florence Briggs Th...  female   38      1   \n",
      "2                             Heikkinen, Miss. Laina  female   26      0   \n",
      "3       Futrelle, Mrs. Jacques Heath (Lily May Peel)  female   35      1   \n",
      "4                           Allen, Mr. William Henry    male   35      0   \n",
      "\n",
      "   Parch            Ticket     Fare Cabin Embarked  \n",
      "0      0         A/5 21171   7.2500   NaN        S  \n",
      "1      0          PC 17599  71.2833   C85        C  \n",
      "2      0  STON/O2. 3101282   7.9250   NaN        S  \n",
      "3      0            113803  53.1000  C123        S  \n",
      "4      0            373450   8.0500   NaN        S  \n",
      "\n",
      "--------Stats---------\n",
      "\n",
      "       PassengerId    Survived      Pclass         Age       SibSp  \\\n",
      "count   891.000000  891.000000  891.000000  714.000000  891.000000   \n",
      "mean    446.000000    0.383838    2.308642   29.699118    0.523008   \n",
      "std     257.353842    0.486592    0.836071   14.526497    1.102743   \n",
      "min       1.000000    0.000000    1.000000    0.420000    0.000000   \n",
      "25%     223.500000    0.000000    2.000000   20.125000    0.000000   \n",
      "50%     446.000000    0.000000    3.000000   28.000000    0.000000   \n",
      "75%     668.500000    1.000000    3.000000   38.000000    1.000000   \n",
      "max     891.000000    1.000000    3.000000   80.000000    8.000000   \n",
      "\n",
      "            Parch        Fare  \n",
      "count  891.000000  891.000000  \n",
      "mean     0.381594   32.204208  \n",
      "std      0.806057   49.693429  \n",
      "min      0.000000    0.000000  \n",
      "25%      0.000000    7.910400  \n",
      "50%      0.000000   14.454200  \n",
      "75%      0.000000   31.000000  \n",
      "max      6.000000  512.329200  \n",
      "(891, 12)\n"
     ]
    }
   ],
   "source": [
    "import pandas as pd\n",
    "# Use pandas to read the csv into a DataFrame object\n",
    "passengers = pd.read_csv('data/train.csv')\n",
    "# Get stats on the dataset\n",
    "print \"\\n--------First n rows---------\\n\"\n",
    "print passengers.head()\n",
    "print \"\\n--------Stats---------\\n\"\n",
    "print passengers.describe()\n",
    "print passengers.shape"
   ]
  },
  {
   "cell_type": "markdown",
   "metadata": {},
   "source": [
    "## Missing Values\n",
    "\n",
    "Do you see how Age only has a count of 714 in the \"describe()\" output? See those \"NaN\" values in the \"Age\" and \"Cabin\" columns? That means we have missing data points. We need to something about that.\n",
    "\n",
    "What is a good value to fill missing \"Age\" values? A good choice would be the median value of our \"Age\" column, since that falls right in the middle of all ages in our dataset.\n",
    "\n",
    "What about the \"Cabin\" column? Since this isn't a numerical value we can't take its median. We'll come back to this column later in the notebook.\n",
    "\n",
    "The \"Embarked\" column has NaN values as well, but due to a cool trick with handling categorical variables we won't need to fill it."
   ]
  },
  {
   "cell_type": "code",
   "execution_count": 6,
   "metadata": {
    "collapsed": false
   },
   "outputs": [
    {
     "data": {
      "text/plain": [
       "<matplotlib.axes.AxesSubplot at 0x118898050>"
      ]
     },
     "execution_count": 6,
     "metadata": {},
     "output_type": "execute_result"
    },
    {
     "data": {
      "image/png": "[encoded data removed]",
      "text/plain": [
       "<matplotlib.figure.Figure at 0x1187bd1d0>"
      ]
     },
     "metadata": {},
     "output_type": "display_data"
    }
   ],
   "source": [
    "import matplotlib.pyplot as plt\n",
    "%matplotlib inline\n",
    "\n",
    "passengers[\"Age\"].plot(kind='hist')"
   ]
  },
  {
   "cell_type": "code",
   "execution_count": 7,
   "metadata": {
    "collapsed": false
   },
   "outputs": [
    {
     "name": "stdout",
     "output_type": "stream",
     "text": [
      "   PassengerId  Survived  Pclass  \\\n",
      "0            1         0       3   \n",
      "1            2         1       1   \n",
      "2            3         1       3   \n",
      "3            4         1       1   \n",
      "4            5         0       3   \n",
      "\n",
      "                                                Name     Sex  Age  SibSp  \\\n",
      "0                            Braund, Mr. Owen Harris    male   22      1   \n",
      "1  Cumings, Mrs. John Bradley (Florence Briggs Th...  female   38      1   \n",
      "2                             Heikkinen, Miss. Laina  female   26      0   \n",
      "3       Futrelle, Mrs. Jacques Heath (Lily May Peel)  female   35      1   \n",
      "4                           Allen, Mr. William Henry    male   35      0   \n",
      "\n",
      "   Parch            Ticket     Fare Cabin Embarked  \n",
      "0      0         A/5 21171   7.2500   NaN        S  \n",
      "1      0          PC 17599  71.2833   C85        C  \n",
      "2      0  STON/O2. 3101282   7.9250   NaN        S  \n",
      "3      0            113803  53.1000  C123        S  \n",
      "4      0            373450   8.0500   NaN        S  \n"
     ]
    }
   ],
   "source": [
    "# pandas \"fillna\" lets us fill specified columns of the dataframe with a value of our choice\n",
    "# http://pandas.pydata.org/pandas-docs/version/0.17.1/generated/pandas.DataFrame.fillna.html\n",
    "passengers[\"Age\"] = passengers[\"Age\"].fillna(passengers[\"Age\"].median())\n",
    "\n",
    "# Notice how the \"NaN\" value from above is now 28, which is the median Age value\n",
    "print passengers.head()"
   ]
  },
  {
   "cell_type": "markdown",
   "metadata": {},
   "source": [
    "## Categorical Data\n",
    "\n",
    "Continuous numerical data is easy to work with, like \"Fare\" or \"Age\". However, what do we do with text data, or numerical data that represents a class or category, like Pclass? Let's assume \"Name\" and \"Ticket\" won't give us any meaningful insight as to whether the passenger survived. However, \"Sex\" and \"Pclass\" may be very important to whether the passenger survived. We need to convert those columns into values that machine learning algorithms can handle correctly.\n",
    "\n",
    "We will represent multiple category categorical variables like Pclass into a \"one-hot\" vector representation where it is a vector of binary values (1 or 0) in which only one bit is set to 1. So for example, since we have 3 possible values for Pclass (1, 2, or 3), a value of 1 would be represented as (1, 0, 0). A value of 2 would be represented as (0, 1, 0), and so on.\n",
    "\n",
    "Remember how the \"Embarked\" column has NaN values? Due to the fact that we're encoding its values as a \"one-hot\" vector we don't actually need to fill them. The one-hot representation of \"Embarked\" has 3 possible values (C, S, Q) where the value is the column that has a 1. However, when the value of \"Embarked\" is NaN, none of those values will be 1, so the vector will be (0, 0, 0), which is uniquely identifiable. Cool trick, huh?\n",
    "\n",
    "It's worth mentioning here that we could also handle categorical values by simpling assigning an integer label to each possible value - this is known as Label Encoding, as opposed to the One-Hot Encoding we're using. It's worth trying out both encoding types on your data and seeing which one performs better. I included code for label encoding as well but kept it commented out so it doesn't get confusing."
   ]
  },
  {
   "cell_type": "code",
   "execution_count": 8,
   "metadata": {
    "collapsed": false
   },
   "outputs": [
    {
     "name": "stdout",
     "output_type": "stream",
     "text": [
      "----------No Name or Ticket-----------\n",
      "\n",
      "   Survived  Pclass     Sex  Age  SibSp  Parch     Fare Cabin Embarked\n",
      "0         0       3    male   22      1      0   7.2500   NaN        S\n",
      "1         1       1  female   38      1      0  71.2833   C85        C\n",
      "2         1       3  female   26      0      0   7.9250   NaN        S\n",
      "3         1       1  female   35      1      0  53.1000  C123        S\n",
      "4         0       3    male   35      0      0   8.0500   NaN        S\n",
      "\n",
      "----------Categorical Data-----------\n",
      "\n",
      "   Survived Sex  Age  SibSp  Parch     Fare Cabin  Embarked_C  Embarked_Q  \\\n",
      "0         0   0   22      1      0   7.2500   NaN           0           0   \n",
      "1         1   1   38      1      0  71.2833   C85           1           0   \n",
      "2         1   1   26      0      0   7.9250   NaN           0           0   \n",
      "3         1   1   35      1      0  53.1000  C123           0           0   \n",
      "4         0   0   35      0      0   8.0500   NaN           0           0   \n",
      "\n",
      "   Embarked_S  Pclass_1  Pclass_2  Pclass_3  \n",
      "0           1         0         0         1  \n",
      "1           0         1         0         0  \n",
      "2           1         0         0         1  \n",
      "3           1         1         0         0  \n",
      "4           1         0         0         1  \n"
     ]
    },
    {
     "name": "stderr",
     "output_type": "stream",
     "text": [
      "/Library/Python/2.7/site-packages/ipykernel/__main__.py:24: SettingWithCopyWarning: \n",
      "A value is trying to be set on a copy of a slice from a DataFrame\n",
      "\n",
      "See the caveats in the documentation: http://pandas.pydata.org/pandas-docs/stable/indexing.html#indexing-view-versus-copy\n",
      "/Library/Python/2.7/site-packages/ipykernel/__main__.py:25: SettingWithCopyWarning: \n",
      "A value is trying to be set on a copy of a slice from a DataFrame\n",
      "\n",
      "See the caveats in the documentation: http://pandas.pydata.org/pandas-docs/stable/indexing.html#indexing-view-versus-copy\n"
     ]
    }
   ],
   "source": [
    "# def label_encode_column(df, col):\n",
    "#     col_vals = df[col].unique()\n",
    "#     print col_vals\n",
    "#     col_map = {col_vals[i]:i for i in range(len(col_vals))}\n",
    "#     return df.apply(lambda row: col_map[row[col]], axis=1)\n",
    "\n",
    "# Drop \"Name\", \"Ticket\" and \"PassengerId\" columns\n",
    "passengers = passengers.drop([\"Name\",\"Ticket\",\"PassengerId\"], axis=1)\n",
    "print \"----------No Name or Ticket-----------\\n\"\n",
    "print passengers.head()\n",
    "\n",
    "# # Make copy for label encoding\n",
    "# passengers_label = passengers.copy()\n",
    "# passengers_label[\"Embarked\"] = label_encode_column(passengers_label, \"Embarked\")\n",
    "# passengers_label[\"Pclass\"] = label_encode_column(passengers_label, \"Pclass\")\n",
    "\n",
    "# pandas \"get_dummies\" function let's us convert categorical columns to \"one-hot\" vector data\n",
    "# that machine learning algorithms like\n",
    "# http://pandas.pydata.org/pandas-docs/stable/generated/pandas.get_dummies.html\n",
    "passengers = pd.get_dummies(passengers, columns=[\"Embarked\",\"Pclass\"])\n",
    "\n",
    "# Since \"Sex\" is a binary variable (only 2 possible values),\n",
    "# we can simply assign numerical labels of 0 and 1 to \"male\" and \"female\"\n",
    "passengers[\"Sex\"][passengers[\"Sex\"] == 'male'] = 0\n",
    "passengers[\"Sex\"][passengers[\"Sex\"] == 'female'] = 1\n",
    "\n",
    "print \"\\n----------Categorical Data-----------\\n\"\n",
    "print passengers.head()\n",
    "\n",
    "\n",
    "# # Label Encoding Version\n",
    "# passengers_label[\"Sex\"] = passengers[\"Sex\"]"
   ]
  },
  {
   "cell_type": "markdown",
   "metadata": {},
   "source": [
    "## That Pesky Cabin Column\n",
    "\n",
    "You may be wondering, why didn't we just throw out the \"Cabin\" column like we did with \"Name\" and \"Ticket\"? Let's think about what the Cabin value means about our passenger. Each Cabin value has a letter, representing the deck, and a room number. How could these values help us? Check out this ship plan of the Titanic:\n",
    "\n",
    "http://home.online.nl/john.vanderree/plan.htm#Decke\n",
    "\n",
    "You can see that higher deck letters are further belowdecks. Consider that the Titanic struck the iceberg at night, meaning that many passengers were likely in their rooms at the time of the crash. That being the case, the deck letter could be significant because the higher the deck letter the further belowdecks the passengers were at the time of the crash (assuming they were in their rooms). This could have affected how quickly they got to the lifeboats and therefore their survival chances. While the room number could have some effect on how quickly they could get to lifeboats, it is probably not as significant as the deck letter, so we'll ignore it.\n",
    "\n",
    "One big caveat here is that the deck letter is probably highly correlated with the passenger class. We won't go into it in-depth here, but know that if one of your features is correlated with another, it's not going to add much extra information and may even hurt your predictions. We're going to ignore the possible correlation here for the sake of learning how to manipulate our columns into new features, but keep that in mind. Another caveat is that most of the cabin values are missing, meaning that we may not get much signal out of it.\n",
    "\n",
    "Let's parse out the deck letter from each \"Cabin\" value and encode the column to a one-hot vector. As with \"Embarked\" above, we don't need to fill the NaN values due to the cool aspect of one-hot encoding."
   ]
  },
  {
   "cell_type": "code",
   "execution_count": 9,
   "metadata": {
    "collapsed": false
   },
   "outputs": [
    {
     "name": "stdout",
     "output_type": "stream",
     "text": [
      "--------Filled Cabin-----------\n",
      "\n",
      "   Survived Sex  Age  SibSp  Parch     Fare Cabin  Embarked_C  Embarked_Q  \\\n",
      "0         0   0   22      1      0   7.2500   NaN           0           0   \n",
      "1         1   1   38      1      0  71.2833     C           1           0   \n",
      "2         1   1   26      0      0   7.9250   NaN           0           0   \n",
      "3         1   1   35      1      0  53.1000     C           0           0   \n",
      "4         0   0   35      0      0   8.0500   NaN           0           0   \n",
      "\n",
      "   Embarked_S  Pclass_1  Pclass_2  Pclass_3  \n",
      "0           1         0         0         1  \n",
      "1           0         1         0         0  \n",
      "2           1         0         0         1  \n",
      "3           1         1         0         0  \n",
      "4           1         0         0         1  \n",
      "\n",
      "\n",
      "\n",
      "--------Categorical Cabin-----------\n",
      "\n",
      "   Survived Sex  Age  SibSp  Parch     Fare  Embarked_C  Embarked_Q  \\\n",
      "0         0   0   22      1      0   7.2500           0           0   \n",
      "1         1   1   38      1      0  71.2833           1           0   \n",
      "2         1   1   26      0      0   7.9250           0           0   \n",
      "3         1   1   35      1      0  53.1000           0           0   \n",
      "4         0   0   35      0      0   8.0500           0           0   \n",
      "\n",
      "   Embarked_S  Pclass_1  Pclass_2  Pclass_3  Cabin_A  Cabin_B  Cabin_C  \\\n",
      "0           1         0         0         1        0        0        0   \n",
      "1           0         1         0         0        0        0        1   \n",
      "2           1         0         0         1        0        0        0   \n",
      "3           1         1         0         0        0        0        1   \n",
      "4           1         0         0         1        0        0        0   \n",
      "\n",
      "   Cabin_D  Cabin_E  Cabin_F  Cabin_G  Cabin_T  \n",
      "0        0        0        0        0        0  \n",
      "1        0        0        0        0        0  \n",
      "2        0        0        0        0        0  \n",
      "3        0        0        0        0        0  \n",
      "4        0        0        0        0        0  \n"
     ]
    }
   ],
   "source": [
    "# function for extracting deck letter\n",
    "def get_deck_letter(row):\n",
    "    # Ignore NaN values\n",
    "    if not pd.isnull(row[\"Cabin\"]):\n",
    "        # Get first letter of \"Cabin\" value\n",
    "        return str(row[\"Cabin\"])[0]\n",
    "    # Otherwise return NaN\n",
    "    return row[\"Cabin\"]\n",
    "\n",
    "# # Label Version\n",
    "# passengers_label[\"Cabin\"] = passengers_label.apply(lambda row: get_deck_letter(row), axis=1)\n",
    "# passengers_label[\"Cabin\"] = label_encode_column(passengers_label, \"Cabin\")\n",
    "\n",
    "# set cabin values to deck letter\n",
    "passengers[\"Cabin\"] = passengers.apply(lambda row: get_deck_letter(row), axis=1)\n",
    "print \"--------Filled Cabin-----------\\n\"\n",
    "print passengers.head()\n",
    "print \"\\n\\n\"\n",
    "\n",
    "passengers = pd.get_dummies(passengers, columns=[\"Cabin\"])\n",
    "print \"--------Categorical Cabin-----------\\n\"\n",
    "print passengers.head()"
   ]
  },
  {
   "cell_type": "markdown",
   "metadata": {},
   "source": [
    "## More Intuition\n",
    "\n",
    "It seems likely that the first to be saved on the Titanic would be women and children. We already have a binary variable for whether the passenger was a woman, so let's create a variable that says whether the passenger is a child.\n",
    "\n",
    "Let's then see how accurate our predictions would be if we based it on just one column, like \"Sex\" or \"IsChild\"."
   ]
  },
  {
   "cell_type": "code",
   "execution_count": null,
   "metadata": {
    "collapsed": false
   },
   "outputs": [],
   "source": [
    "# Function for determining if passenger is a child\n",
    "def is_child(row):\n",
    "    child = 0 if row[\"Age\"] >= 12 else 1\n",
    "    return child\n",
    "\n",
    "passengers[\"IsChild\"] = passengers.apply(lambda row: is_child(row), axis=1)\n",
    "passengers = passengers.drop(\"Age\", axis=1)\n",
    "\n",
    "# # Label encoding version\n",
    "# passengers_label[\"IsChild\"] = passengers[\"IsChild\"]"
   ]
  },
  {
   "cell_type": "code",
   "execution_count": 11,
   "metadata": {
    "collapsed": false
   },
   "outputs": [
    {
     "name": "stdout",
     "output_type": "stream",
     "text": [
      "Sex:\n",
      "\tAcc: 0.786756453423\n",
      "\tConfusion Matrix:\n",
      "\t[468 109]\n",
      "\t[ 81 233]\n",
      "\n",
      "Pclass_1:\n",
      "\tAcc: 0.679012345679\n",
      "\tConfusion Matrix:\n",
      "\t[469 206]\n",
      "\t[ 80 136]\n",
      "\n",
      "Cabin_B:\n",
      "\tAcc: 0.641975308642\n",
      "\tConfusion Matrix:\n",
      "\t[537 307]\n",
      "\t[12 35]\n",
      "\n",
      "Embarked_C:\n",
      "\tAcc: 0.636363636364\n",
      "\tConfusion Matrix:\n",
      "\t[474 249]\n",
      "\t[75 93]\n",
      "\n",
      "Cabin_D:\n",
      "\tAcc: 0.635241301908\n",
      "\tConfusion Matrix:\n",
      "\t[541 317]\n",
      "\t[ 8 25]\n",
      "\n"
     ]
    }
   ],
   "source": [
    "from sklearn.metrics import confusion_matrix\n",
    "import numpy as np\n",
    "\n",
    "def predict_by_column(df, col, col_val, target_col):\n",
    "    \"\"\"\n",
    "    df: dataframe to make predictions on\n",
    "    col: predict target based on this column being equal to `col_val`\n",
    "    col_val: value of col\n",
    "    target_col: column you are trying to predict\n",
    "    \"\"\"\n",
    "    y = df[target_col].values\n",
    "    x = df[col].values\n",
    "    predictions = []\n",
    "    num_correct = 0\n",
    "    for i in range(len(y)):\n",
    "        pred = 1 if x[i] == col_val else 0\n",
    "        predictions.append(pred)\n",
    "        actual = y[i]\n",
    "        if pred == actual:\n",
    "            num_correct += 1\n",
    "    acc = num_correct / float(len(y))\n",
    "    cm = confusion_matrix(np.array(predictions).astype(int), y)\n",
    "    return acc, cm\n",
    "\n",
    "def get_best_columns(df, n, target_col):\n",
    "    accuracies = []\n",
    "    for c in df.columns:\n",
    "        if c != target_col and len(df[c].unique()) == 2 and 1 in df[c].unique():\n",
    "            acc, cm = predict_by_column(df, c, 1, target_col)\n",
    "            accuracies.append((c, {\"Acc\":acc, \"CM\": cm}))\n",
    "    return sorted(accuracies, key=lambda x: x[1]['Acc'], reverse=True)[:n]\n",
    "    \n",
    "best_cols = get_best_columns(passengers, 5, \"Survived\")\n",
    "for c in best_cols:\n",
    "    print c[0] + \":\"\n",
    "    print \"\\tAcc: \" + str(c[1][\"Acc\"])\n",
    "    print \"\\tConfusion Matrix:\"\n",
    "    print \"\\t\"+str(c[1][\"CM\"][0])\n",
    "    print \"\\t\"+str(c[1][\"CM\"][1])\n",
    "    print \"\""
   ]
  },
  {
   "cell_type": "markdown",
   "metadata": {},
   "source": [
    "## Machine Learning\n",
    "\n",
    "Now that we've cleaned up our data, let's get it ready to put into a machine learning model. We need to do a few things:\n",
    "\n",
    "* Extract the \"Survived\" column to be our prediction labels\n",
    "* Split our dataset into a training set and a testing set\n",
    "* Train a machine learning model on the training set\n",
    "* Test the trained model on our test set and evaluate its performance\n",
    "\n",
    "We split our dataset into a training set and a test set so we can have a way to evaluate how well our model will do on data it hasn't trained on. We know the answers to the test set, but the model doesn't, so we can assess its accuracy.\n",
    "\n",
    "Let's start with the first two.\n",
    "\n",
    "### Split the Dataset"
   ]
  },
  {
   "cell_type": "code",
   "execution_count": 12,
   "metadata": {
    "collapsed": false
   },
   "outputs": [],
   "source": [
    "from sklearn import cross_validation\n",
    "# Get feature matrix and label vector\n",
    "X = passengers.drop(\"Survived\", axis=1).values\n",
    "y = passengers[\"Survived\"].values\n",
    "\n",
    "# Split into training and test sets\n",
    "X_train, X_test, y_train, y_test = cross_validation.train_test_split(X, y, test_size=0.25, random_state=42)"
   ]
  },
  {
   "cell_type": "markdown",
   "metadata": {},
   "source": [
    "### Train the Model\n",
    "\n",
    "We're going to use a Random Forest as our machine learning model. Don't worry about the details of the algorithm, we'll cover that in a later meetup."
   ]
  },
  {
   "cell_type": "code",
   "execution_count": 13,
   "metadata": {
    "collapsed": false
   },
   "outputs": [
    {
     "name": "stdout",
     "output_type": "stream",
     "text": [
      "0.798206278027\n",
      "[[115  19]\n",
      " [ 26  63]]\n"
     ]
    },
    {
     "name": "stderr",
     "output_type": "stream",
     "text": [
      "/System/Library/Frameworks/Python.framework/Versions/2.7/Extras/lib/python/matplotlib/collections.py:548: FutureWarning: elementwise comparison failed; returning scalar instead, but in the future will perform elementwise comparison\n",
      "  if self._edgecolors == 'face':\n"
     ]
    },
    {
     "data": {
      "image/png": "[encoded data removed]",
      "text/plain": [
       "<matplotlib.figure.Figure at 0x10a702150>"
      ]
     },
     "metadata": {},
     "output_type": "display_data"
    }
   ],
   "source": [
    "%matplotlib inline\n",
    "from sklearn.ensemble import RandomForestClassifier, AdaBoostClassifier\n",
    "from sklearn.naive_bayes import BernoulliNB, MultinomialNB\n",
    "from sklearn.svm import LinearSVC\n",
    "from sklearn.linear_model import SGDClassifier\n",
    "from sklearn.linear_model import Perceptron\n",
    "from sklearn.linear_model import PassiveAggressiveClassifier\n",
    "from sklearn.neighbors import KNeighborsClassifier\n",
    "from sklearn.metrics import confusion_matrix\n",
    "import matplotlib.pyplot as plt\n",
    "import numpy as np\n",
    "\n",
    "target_names = [\"Didn't Survive\", \"Survived\"]\n",
    "\n",
    "def plot_confusion_matrix(cm, title='Confusion matrix', cmap=plt.cm.Blues):\n",
    "    plt.imshow(cm, interpolation='nearest', cmap=cmap)\n",
    "    plt.title(title)\n",
    "    plt.colorbar()\n",
    "    tick_marks = np.arange(len(target_names))\n",
    "    plt.xticks(tick_marks, target_names, rotation=45)\n",
    "    plt.yticks(tick_marks, target_names)\n",
    "    plt.tight_layout()\n",
    "    plt.ylabel('True label')\n",
    "    plt.xlabel('Predicted label')\n",
    "    plt.show()\n",
    "\n",
    "\n",
    "rf = RandomForestClassifier()\n",
    "rf.fit(X_train, y_train)\n",
    "y_pred = rf.predict(X_test)\n",
    "print rf.score(X_test, y_test)\n",
    "# scores = cross_validation.cross_val_score(rf, X, y, cv=5, scoring='f1_weighted')\n",
    "# print(\"Accuracy: %0.2f (+/- %0.2f)\" % (scores.mean(), scores.std() * 2))\n",
    "# print scores\n",
    "cm = confusion_matrix(y_test, y_pred)\n",
    "print cm\n",
    "plot_confusion_matrix(cm)"
   ]
  },
  {
   "cell_type": "code",
   "execution_count": 15,
   "metadata": {
    "collapsed": false
   },
   "outputs": [
    {
     "name": "stdout",
     "output_type": "stream",
     "text": [
      "LinearSVC\n",
      "\n",
      "0.80269058296\n",
      "[[112  22]\n",
      " [ 22  67]]\n"
     ]
    },
    {
     "data": {
      "image/png": "[encoded data removed]",
      "text/plain": [
       "<matplotlib.figure.Figure at 0x11a538e90>"
      ]
     },
     "metadata": {},
     "output_type": "display_data"
    },
    {
     "name": "stdout",
     "output_type": "stream",
     "text": [
      "\t-0.6197\tCabin_G        \t\t1.1702\tCabin_E        \n",
      "\t-0.2113\tPclass_3       \t\t0.9305\tSex            \n",
      "\t-0.1885\tEmbarked_S     \t\t0.6740\tCabin_D        \n",
      "\t-0.0998\tSibSp          \t\t0.3370\tCabin_C        \n",
      "\t-0.0584\tCabin_T        \t\t0.3200\tCabin_F        \n",
      "\n",
      "\n",
      "\n",
      "MultinomialNB\n",
      "\n",
      "0.717488789238\n",
      "[[114  20]\n",
      " [ 43  46]]\n"
     ]
    },
    {
     "data": {
      "image/png": "[encoded data removed]",
      "text/plain": [
       "<matplotlib.figure.Figure at 0x11a55fd90>"
      ]
     },
     "metadata": {},
     "output_type": "display_data"
    },
    {
     "name": "stdout",
     "output_type": "stream",
     "text": [
      "\t-9.9293\tCabin_T        \t\t-0.5068\tFare           \n",
      "\t-9.2361\tCabin_G        \t\t-1.0567\tAge            \n",
      "\t-8.3198\tCabin_A        \t\t-4.7876\tSex            \n",
      "\t-7.8498\tCabin_F        \t\t-4.8173\tEmbarked_S     \n",
      "\t-7.2212\tCabin_D        \t\t-5.1010\tSibSp          \n",
      "\n",
      "\n",
      "\n",
      "SGDClassifier\n",
      "\n",
      "0.300448430493\n",
      "[[44 90]\n",
      " [66 23]]\n"
     ]
    },
    {
     "data": {
      "image/png": "[encoded data removed]",
      "text/plain": [
       "<matplotlib.figure.Figure at 0x11893ec90>"
      ]
     },
     "metadata": {},
     "output_type": "display_data"
    },
    {
     "name": "stdout",
     "output_type": "stream",
     "text": [
      "\t-725.9737\tSibSp          \t\t686.7942\tSex            \n",
      "\t-297.6183\tFare           \t\t171.5142\tAge            \n",
      "\t-251.2100\tPclass_3       \t\t159.0228\tPclass_2       \n",
      "\t-207.4211\tParch          \t\t82.9684\tCabin_E        \n",
      "\t-129.0620\tEmbarked_S     \t\t78.3591\tEmbarked_C     \n",
      "\n",
      "\n",
      "\n",
      "AdaBoostClassifier\n",
      "\n",
      "0.80269058296\n",
      "[[112  22]\n",
      " [ 22  67]]\n"
     ]
    },
    {
     "data": {
      "image/png": "[encoded data removed]",
      "text/plain": [
       "<matplotlib.figure.Figure at 0x11a762f90>"
      ]
     },
     "metadata": {},
     "output_type": "display_data"
    },
    {
     "name": "stdout",
     "output_type": "stream",
     "text": [
      "\n",
      "\n",
      "\n",
      "Perceptron\n",
      "\n",
      "0.600896860987\n",
      "[[134   0]\n",
      " [ 89   0]]\n"
     ]
    },
    {
     "data": {
      "image/png": "[encoded data removed]",
      "text/plain": [
       "<matplotlib.figure.Figure at 0x11a6e6850>"
      ]
     },
     "metadata": {},
     "output_type": "display_data"
    },
    {
     "name": "stdout",
     "output_type": "stream",
     "text": [
      "\t-299.0000\tSibSp          \t\t301.0000\tSex            \n",
      "\t-106.7243\tFare           \t\t44.0000\tPclass_2       \n",
      "\t-94.0000\tParch          \t\t31.0000\tCabin_E        \n",
      "\t-90.0000\tPclass_3       \t\t29.0000\tEmbarked_C     \n",
      "\t-69.0000\tEmbarked_S     \t\t21.0000\tCabin_B        \n",
      "\n",
      "\n",
      "\n",
      "PassiveAggressiveClassifier\n",
      "\n",
      "0.421524663677\n",
      "[[  5 129]\n",
      " [  0  89]]\n"
     ]
    },
    {
     "data": {
      "image/png": "[encoded data removed]",
      "text/plain": [
       "<matplotlib.figure.Figure at 0x11883ae50>"
      ]
     },
     "metadata": {},
     "output_type": "display_data"
    },
    {
     "name": "stdout",
     "output_type": "stream",
     "text": [
      "\t-0.1683\tSibSp          \t\t0.5093\tSex            \n",
      "\t-0.1108\tEmbarked_S     \t\t0.1403\tPclass_2       \n",
      "\t-0.0759\tPclass_3       \t\t0.1349\tEmbarked_C     \n",
      "\t-0.0457\tCabin_G        \t\t0.1274\tParch          \n",
      "\t-0.0024\tCabin_A        \t\t0.0919\tCabin_E        \n",
      "\n",
      "\n",
      "\n",
      "KNeighborsClassifier\n",
      "\n",
      "0.695067264574\n",
      "[[104  30]\n",
      " [ 38  51]]\n"
     ]
    },
    {
     "data": {
      "image/png": "[encoded data removed]",
      "text/plain": [
       "<matplotlib.figure.Figure at 0x118931750>"
      ]
     },
     "metadata": {},
     "output_type": "display_data"
    },
    {
     "name": "stdout",
     "output_type": "stream",
     "text": [
      "\n",
      "\n",
      "\n",
      "RandomForestClassifier\n",
      "\n",
      "0.820627802691\n",
      "[[117  17]\n",
      " [ 23  66]]\n"
     ]
    },
    {
     "data": {
      "image/png": "[encoded data removed]",
      "text/plain": [
       "<matplotlib.figure.Figure at 0x10a6c2f90>"
      ]
     },
     "metadata": {},
     "output_type": "display_data"
    },
    {
     "name": "stdout",
     "output_type": "stream",
     "text": [
      "\n",
      "\n",
      "\n"
     ]
    }
   ],
   "source": [
    "from sklearn.utils.extmath import density\n",
    "\n",
    "def show_most_informative_features(feature_names, clf, n=20):\n",
    "    coefs_with_fns = sorted(zip(clf.coef_[0], feature_names))\n",
    "    top = zip(coefs_with_fns[:n], coefs_with_fns[:-(n + 1):-1])\n",
    "    for (coef_1, fn_1), (coef_2, fn_2) in top:\n",
    "        print \"\\t%.4f\\t%-15s\\t\\t%.4f\\t%-15s\" % (coef_1, fn_1, coef_2, fn_2)\n",
    "\n",
    "classifiers = [\n",
    "    LinearSVC(),\n",
    "    MultinomialNB(),\n",
    "    SGDClassifier(),\n",
    "    AdaBoostClassifier(),\n",
    "    Perceptron(),\n",
    "    PassiveAggressiveClassifier(),\n",
    "    KNeighborsClassifier(),\n",
    "    RandomForestClassifier()\n",
    "]\n",
    "\n",
    "feature_names = passengers.drop(\"Survived\", axis=1).columns\n",
    "\n",
    "for clf in classifiers:\n",
    "    print clf.__class__.__name__\n",
    "    print \"\"\n",
    "    clf.fit(X_train, y_train)\n",
    "    y_pred = clf.predict(X_test)\n",
    "    print clf.score(X_test, y_test)\n",
    "    cm = confusion_matrix(y_test, y_pred)\n",
    "    print cm\n",
    "    plot_confusion_matrix(cm)\n",
    "\n",
    "\n",
    "    died_words = []\n",
    "    survived_words = []\n",
    "    \n",
    "    if hasattr(clf, 'coef_'):\n",
    "        show_most_informative_features(feature_names, clf, 5)\n",
    "    \n",
    "    print \"\\n\\n\""
   ]
  },
  {
   "cell_type": "code",
   "execution_count": null,
   "metadata": {
    "collapsed": false
   },
   "outputs": [],
   "source": [
    "import os, sys\n",
    "XGB_ROOT = \"/Users/adamrogers/xgboost/\"\n",
    "xgb_path = os.path.join(XGB_ROOT, \"python-package\")\n",
    "if xgb_path not in sys.path:\n",
    "    sys.path.insert(0, xgb_path)\n",
    "import xgboost as xgb\n",
    "\n",
    "xgmat = xgb.DMatrix( X_train, label=y_train )#, weight=weight )\n",
    "\n",
    "# setup parameters for xgboost\n",
    "param = {}\n",
    "# use logistic regression loss, use raw prediction before logistic transformation\n",
    "# since we only need the rank\n",
    "param['objective'] = 'binary:logitraw'\n",
    "# scale weight of positive examples\n",
    "#param['scale_pos_weight'] = sum_wneg/sum_wpos\n",
    "param['eta'] = 0.1\n",
    "param['max_depth'] = 6\n",
    "param['eval_metric'] = 'auc'\n",
    "param['silent'] = 1\n",
    "param['nthread'] = 16\n",
    "\n",
    "# you can directly throw param in, though we want to watch multiple metrics here\n",
    "plst = list(param.items())#+[('eval_metric', 'ams@0.15')]\n",
    "\n",
    "watchlist = [ (xgmat,'train') ]\n",
    "# boost 120 tres\n",
    "num_round = 120\n",
    "print ('loading data end, start to boost trees')\n",
    "bst = xgb.train( plst, xgmat, num_round, watchlist );"
   ]
  },
  {
   "cell_type": "code",
   "execution_count": null,
   "metadata": {
    "collapsed": false
   },
   "outputs": [],
   "source": [
    "dtest = xgb.DMatrix(X_test)\n",
    "ypred = bst.predict(dtest)\n",
    "print np.rint(ypred)\n",
    "xgb.plot_importance(bst)\n",
    "print feature_names\n",
    "xgb.plot_tree(bst, num_trees=2)"
   ]
  }
 ],
 "metadata": {
  "kernelspec": {
   "display_name": "Python 2",
   "language": "python",
   "name": "python2"
  },
  "language_info": {
   "codemirror_mode": {
    "name": "ipython",
    "version": 2
   },
   "file_extension": ".py",
   "mimetype": "text/x-python",
   "name": "python",
   "nbconvert_exporter": "python",
   "pygments_lexer": "ipython2",
   "version": "2.7.10"
  }
 },
 "nbformat": 4,
 "nbformat_minor": 0
}
